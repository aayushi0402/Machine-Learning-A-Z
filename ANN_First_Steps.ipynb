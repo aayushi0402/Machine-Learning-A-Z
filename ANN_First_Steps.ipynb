{
 "cells": [
  {
   "cell_type": "markdown",
   "metadata": {},
   "source": [
    "# Getting Started With ANN"
   ]
  },
  {
   "cell_type": "markdown",
   "metadata": {},
   "source": [
    "## Loading Data and Preprocessing"
   ]
  },
  {
   "cell_type": "code",
   "execution_count": 53,
   "metadata": {},
   "outputs": [],
   "source": [
    "import numpy as np\n",
    "import matplotlib.pyplot as plt\n",
    "import pandas as pd\n"
   ]
  },
  {
   "cell_type": "code",
   "execution_count": 54,
   "metadata": {},
   "outputs": [],
   "source": [
    "data = pd.read_csv('Churn_Modelling.csv') #using the churn dataset to predict wether a customer exits or stays\n",
    "X = data.iloc[:, 3:13].values\n",
    "Y = data.iloc[:,13].values"
   ]
  },
  {
   "cell_type": "code",
   "execution_count": 55,
   "metadata": {},
   "outputs": [],
   "source": [
    "from sklearn.preprocessing import OneHotEncoder,LabelEncoder #Encoding\n",
    "labelencoder_X_1 = LabelEncoder()\n",
    "X[:,1] = labelencoder_X_1.fit_transform(X[:,1])\n",
    "labelencoder_X_2 = LabelEncoder()\n",
    "X[:,2] = labelencoder_X_2.fit_transform(X[:,2])\n"
   ]
  },
  {
   "cell_type": "code",
   "execution_count": 56,
   "metadata": {},
   "outputs": [
    {
     "name": "stderr",
     "output_type": "stream",
     "text": [
      "/home/aayushi/anaconda3/lib/python3.7/site-packages/sklearn/preprocessing/_encoders.py:371: FutureWarning: The handling of integer data will change in version 0.22. Currently, the categories are determined based on the range [0, max(values)], while in the future they will be determined based on the unique values.\n",
      "If you want the future behaviour and silence this warning, you can specify \"categories='auto'\".\n",
      "In case you used a LabelEncoder before this OneHotEncoder to convert the categories to integers, then you can now use the OneHotEncoder directly.\n",
      "  warnings.warn(msg, FutureWarning)\n",
      "/home/aayushi/anaconda3/lib/python3.7/site-packages/sklearn/preprocessing/_encoders.py:392: DeprecationWarning: The 'categorical_features' keyword is deprecated in version 0.20 and will be removed in 0.22. You can use the ColumnTransformer instead.\n",
      "  \"use the ColumnTransformer instead.\", DeprecationWarning)\n"
     ]
    }
   ],
   "source": [
    "onehotencoder = OneHotEncoder(categorical_features = [1]) #Telling the model not to rank the data\n",
    "X = onehotencoder.fit_transform(X).toarray()\n",
    "X = X[:, 1:]"
   ]
  },
  {
   "cell_type": "code",
   "execution_count": 57,
   "metadata": {},
   "outputs": [],
   "source": [
    "from sklearn.model_selection import train_test_split\n",
    "X_train,X_test,Y_train,Y_test = train_test_split(X,Y,test_size = 0.2, random_state = 0)"
   ]
  },
  {
   "cell_type": "code",
   "execution_count": 58,
   "metadata": {},
   "outputs": [],
   "source": [
    "from sklearn.preprocessing import StandardScaler\n",
    "sc = StandardScaler()\n",
    "X_train = sc.fit_transform(X_train)\n",
    "X_test = sc.transform(X_test)"
   ]
  },
  {
   "cell_type": "markdown",
   "metadata": {},
   "source": [
    "### Setting Up The Neural Network!"
   ]
  },
  {
   "cell_type": "code",
   "execution_count": 59,
   "metadata": {},
   "outputs": [],
   "source": [
    "from tensorflow import keras\n",
    "from tensorflow.keras.models import Sequential\n",
    "from tensorflow.keras.layers import Dense\n"
   ]
  },
  {
   "cell_type": "code",
   "execution_count": 123,
   "metadata": {},
   "outputs": [],
   "source": [
    "classifier = Sequential() \n",
    "classifier.add(Dense(units = 6,kernel_initializer = 'glorot_uniform', activation = 'relu',input_dim=11)) #Latest version of keras has 'units' instead of 'output_dim'\n",
    "classifier.add(Dense(units = 6, kernel_initializer = 'glorot_uniform',activation = 'relu',input_dim=11))\n",
    "classifier.add(Dense(units = 6, kernel_initializer = 'glorot_uniform',activation = 'relu',input_dim=11))\n",
    "classifier.add(Dense(units = 1,kernel_initializer='glorot_uniform',activation = 'sigmoid'))"
   ]
  },
  {
   "cell_type": "code",
   "execution_count": 124,
   "metadata": {},
   "outputs": [],
   "source": [
    "classifier.compile(optimizer = 'adam',loss = 'binary_crossentropy',metrics = ['accuracy'])"
   ]
  },
  {
   "cell_type": "code",
   "execution_count": 125,
   "metadata": {},
   "outputs": [
    {
     "name": "stderr",
     "output_type": "stream",
     "text": [
      "W1108 01:58:41.075646 140068142126912 training.py:593] The `nb_epoch` argument in `fit` has been renamed `epochs`.\n"
     ]
    },
    {
     "name": "stdout",
     "output_type": "stream",
     "text": [
      "Epoch 1/100\n",
      "8000/8000 [==============================] - 3s 404us/sample - loss: 0.5272 - acc: 0.7722\n",
      "Epoch 2/100\n",
      "8000/8000 [==============================] - 3s 388us/sample - loss: 0.4366 - acc: 0.8062\n",
      "Epoch 3/100\n",
      "8000/8000 [==============================] - 3s 378us/sample - loss: 0.4260 - acc: 0.8138\n",
      "Epoch 4/100\n",
      "8000/8000 [==============================] - 3s 412us/sample - loss: 0.4195 - acc: 0.8171\n",
      "Epoch 5/100\n",
      "8000/8000 [==============================] - 3s 386us/sample - loss: 0.4150 - acc: 0.8226\n",
      "Epoch 6/100\n",
      "8000/8000 [==============================] - 3s 363us/sample - loss: 0.4102 - acc: 0.8271\n",
      "Epoch 7/100\n",
      "8000/8000 [==============================] - 3s 396us/sample - loss: 0.4043 - acc: 0.8291\n",
      "Epoch 8/100\n",
      "8000/8000 [==============================] - 4s 446us/sample - loss: 0.3964 - acc: 0.8344\n",
      "Epoch 9/100\n",
      "8000/8000 [==============================] - ETA: 0s - loss: 0.3841 - acc: 0.840 - 4s 444us/sample - loss: 0.3851 - acc: 0.8397\n",
      "Epoch 10/100\n",
      "8000/8000 [==============================] - 4s 471us/sample - loss: 0.3715 - acc: 0.8472\n",
      "Epoch 11/100\n",
      "8000/8000 [==============================] - 4s 452us/sample - loss: 0.3593 - acc: 0.8530\n",
      "Epoch 12/100\n",
      "8000/8000 [==============================] - 4s 458us/sample - loss: 0.3508 - acc: 0.8568\n",
      "Epoch 13/100\n",
      "8000/8000 [==============================] - 4s 504us/sample - loss: 0.3462 - acc: 0.8586\n",
      "Epoch 14/100\n",
      "8000/8000 [==============================] - 4s 484us/sample - loss: 0.3437 - acc: 0.8589\n",
      "Epoch 15/100\n",
      "8000/8000 [==============================] - 4s 477us/sample - loss: 0.3417 - acc: 0.8571\n",
      "Epoch 16/100\n",
      "8000/8000 [==============================] - 4s 490us/sample - loss: 0.3409 - acc: 0.8615\n",
      "Epoch 17/100\n",
      "8000/8000 [==============================] - 4s 527us/sample - loss: 0.3397 - acc: 0.8601\n",
      "Epoch 18/100\n",
      "8000/8000 [==============================] - 4s 526us/sample - loss: 0.3387 - acc: 0.8614\n",
      "Epoch 19/100\n",
      "8000/8000 [==============================] - 4s 490us/sample - loss: 0.3387 - acc: 0.8629\n",
      "Epoch 20/100\n",
      "8000/8000 [==============================] - 4s 477us/sample - loss: 0.3385 - acc: 0.8596\n",
      "Epoch 21/100\n",
      "8000/8000 [==============================] - 4s 457us/sample - loss: 0.3371 - acc: 0.8609\n",
      "Epoch 22/100\n",
      "8000/8000 [==============================] - 5s 623us/sample - loss: 0.3372 - acc: 0.8606\n",
      "Epoch 23/100\n",
      "8000/8000 [==============================] - 4s 498us/sample - loss: 0.3368 - acc: 0.8616\n",
      "Epoch 24/100\n",
      "8000/8000 [==============================] - 4s 462us/sample - loss: 0.3367 - acc: 0.8629\n",
      "Epoch 25/100\n",
      "8000/8000 [==============================] - 4s 496us/sample - loss: 0.3364 - acc: 0.8609\n",
      "Epoch 26/100\n",
      "8000/8000 [==============================] - 4s 523us/sample - loss: 0.3357 - acc: 0.8635\n",
      "Epoch 27/100\n",
      "8000/8000 [==============================] - 4s 500us/sample - loss: 0.3361 - acc: 0.8604\n",
      "Epoch 28/100\n",
      "8000/8000 [==============================] - 4s 560us/sample - loss: 0.3358 - acc: 0.8619\n",
      "Epoch 29/100\n",
      "8000/8000 [==============================] - 4s 492us/sample - loss: 0.3352 - acc: 0.8616\n",
      "Epoch 30/100\n",
      "8000/8000 [==============================] - 4s 522us/sample - loss: 0.3355 - acc: 0.8612\n",
      "Epoch 31/100\n",
      "8000/8000 [==============================] - 4s 471us/sample - loss: 0.3352 - acc: 0.8641\n",
      "Epoch 32/100\n",
      "8000/8000 [==============================] - 4s 535us/sample - loss: 0.3349 - acc: 0.8629\n",
      "Epoch 33/100\n",
      "8000/8000 [==============================] - 4s 546us/sample - loss: 0.3345 - acc: 0.8631\n",
      "Epoch 34/100\n",
      "8000/8000 [==============================] - 4s 515us/sample - loss: 0.3340 - acc: 0.8618\n",
      "Epoch 35/100\n",
      "8000/8000 [==============================] - 4s 509us/sample - loss: 0.3346 - acc: 0.8635\n",
      "Epoch 36/100\n",
      "8000/8000 [==============================] - 4s 515us/sample - loss: 0.3343 - acc: 0.8651\n",
      "Epoch 37/100\n",
      "8000/8000 [==============================] - 5s 584us/sample - loss: 0.3334 - acc: 0.8622\n",
      "Epoch 38/100\n",
      "8000/8000 [==============================] - 5s 597us/sample - loss: 0.3340 - acc: 0.8630\n",
      "Epoch 39/100\n",
      "8000/8000 [==============================] - 4s 460us/sample - loss: 0.3334 - acc: 0.8616\n",
      "Epoch 40/100\n",
      "8000/8000 [==============================] - 3s 417us/sample - loss: 0.3334 - acc: 0.8631\n",
      "Epoch 41/100\n",
      "8000/8000 [==============================] - 3s 433us/sample - loss: 0.3333 - acc: 0.8621\n",
      "Epoch 42/100\n",
      "8000/8000 [==============================] - 4s 444us/sample - loss: 0.3329 - acc: 0.8615\n",
      "Epoch 43/100\n",
      "8000/8000 [==============================] - 4s 445us/sample - loss: 0.3338 - acc: 0.8619\n",
      "Epoch 44/100\n",
      "8000/8000 [==============================] - 4s 438us/sample - loss: 0.3328 - acc: 0.8645\n",
      "Epoch 45/100\n",
      "8000/8000 [==============================] - 4s 446us/sample - loss: 0.3338 - acc: 0.8645\n",
      "Epoch 46/100\n",
      "8000/8000 [==============================] - 3s 390us/sample - loss: 0.3328 - acc: 0.8610\n",
      "Epoch 47/100\n",
      "8000/8000 [==============================] - 4s 470us/sample - loss: 0.3332 - acc: 0.8640\n",
      "Epoch 48/100\n",
      "8000/8000 [==============================] - 4s 447us/sample - loss: 0.3331 - acc: 0.8626\n",
      "Epoch 49/100\n",
      "8000/8000 [==============================] - 4s 453us/sample - loss: 0.3323 - acc: 0.8620\n",
      "Epoch 50/100\n",
      "8000/8000 [==============================] - 4s 471us/sample - loss: 0.3326 - acc: 0.8643\n",
      "Epoch 51/100\n",
      "8000/8000 [==============================] - 4s 465us/sample - loss: 0.3321 - acc: 0.8631\n",
      "Epoch 52/100\n",
      "8000/8000 [==============================] - 4s 491us/sample - loss: 0.3322 - acc: 0.8651\n",
      "Epoch 53/100\n",
      "8000/8000 [==============================] - 4s 511us/sample - loss: 0.3323 - acc: 0.8641\n",
      "Epoch 54/100\n",
      "8000/8000 [==============================] - 4s 444us/sample - loss: 0.3321 - acc: 0.8651\n",
      "Epoch 55/100\n",
      "8000/8000 [==============================] - 4s 499us/sample - loss: 0.3319 - acc: 0.8634\n",
      "Epoch 56/100\n",
      "8000/8000 [==============================] - 4s 461us/sample - loss: 0.3321 - acc: 0.8636\n",
      "Epoch 57/100\n",
      "8000/8000 [==============================] - 4s 469us/sample - loss: 0.3328 - acc: 0.8624\n",
      "Epoch 58/100\n",
      "8000/8000 [==============================] - 4s 507us/sample - loss: 0.3316 - acc: 0.8614\n",
      "Epoch 59/100\n",
      "8000/8000 [==============================] - 4s 458us/sample - loss: 0.3315 - acc: 0.8643\n",
      "Epoch 60/100\n",
      "8000/8000 [==============================] - 4s 484us/sample - loss: 0.3316 - acc: 0.8630\n",
      "Epoch 61/100\n",
      "8000/8000 [==============================] - 4s 479us/sample - loss: 0.3315 - acc: 0.8637\n",
      "Epoch 62/100\n",
      "8000/8000 [==============================] - 4s 450us/sample - loss: 0.3316 - acc: 0.8637\n",
      "Epoch 63/100\n",
      "8000/8000 [==============================] - 4s 462us/sample - loss: 0.3316 - acc: 0.8626\n",
      "Epoch 64/100\n",
      "8000/8000 [==============================] - 4s 463us/sample - loss: 0.3316 - acc: 0.8652\n",
      "Epoch 65/100\n",
      "8000/8000 [==============================] - 4s 476us/sample - loss: 0.3312 - acc: 0.8652\n",
      "Epoch 66/100\n",
      "8000/8000 [==============================] - 4s 459us/sample - loss: 0.3315 - acc: 0.8625\n",
      "Epoch 67/100\n",
      "8000/8000 [==============================] - 4s 476us/sample - loss: 0.3302 - acc: 0.8639\n",
      "Epoch 68/100\n",
      "8000/8000 [==============================] - 4s 459us/sample - loss: 0.3312 - acc: 0.8652\n",
      "Epoch 69/100\n",
      "8000/8000 [==============================] - 4s 515us/sample - loss: 0.3305 - acc: 0.8654\n",
      "Epoch 70/100\n",
      "8000/8000 [==============================] - 4s 508us/sample - loss: 0.3304 - acc: 0.8655\n",
      "Epoch 71/100\n",
      "8000/8000 [==============================] - 4s 496us/sample - loss: 0.3308 - acc: 0.8627\n",
      "Epoch 72/100\n",
      "8000/8000 [==============================] - 4s 494us/sample - loss: 0.3305 - acc: 0.8644\n",
      "Epoch 73/100\n",
      "8000/8000 [==============================] - 5s 595us/sample - loss: 0.3308 - acc: 0.8634\n",
      "Epoch 74/100\n",
      "8000/8000 [==============================] - 4s 494us/sample - loss: 0.3303 - acc: 0.8640\n",
      "Epoch 75/100\n",
      "8000/8000 [==============================] - 4s 480us/sample - loss: 0.3303 - acc: 0.8648\n",
      "Epoch 76/100\n",
      "8000/8000 [==============================] - 4s 523us/sample - loss: 0.3304 - acc: 0.8649\n",
      "Epoch 77/100\n",
      "8000/8000 [==============================] - 4s 499us/sample - loss: 0.3308 - acc: 0.8636\n",
      "Epoch 78/100\n",
      "8000/8000 [==============================] - 4s 508us/sample - loss: 0.3304 - acc: 0.8633\n",
      "Epoch 79/100\n",
      "8000/8000 [==============================] - 4s 505us/sample - loss: 0.3299 - acc: 0.8658\n",
      "Epoch 80/100\n"
     ]
    },
    {
     "name": "stdout",
     "output_type": "stream",
     "text": [
      "8000/8000 [==============================] - 4s 464us/sample - loss: 0.3299 - acc: 0.8639\n",
      "Epoch 81/100\n",
      "8000/8000 [==============================] - 4s 439us/sample - loss: 0.3302 - acc: 0.8659\n",
      "Epoch 82/100\n",
      "8000/8000 [==============================] - 4s 472us/sample - loss: 0.3306 - acc: 0.8637\n",
      "Epoch 83/100\n",
      "8000/8000 [==============================] - 4s 459us/sample - loss: 0.3302 - acc: 0.8656\n",
      "Epoch 84/100\n",
      "8000/8000 [==============================] - 4s 445us/sample - loss: 0.3299 - acc: 0.8658\n",
      "Epoch 85/100\n",
      "8000/8000 [==============================] - 4s 487us/sample - loss: 0.3303 - acc: 0.8631\n",
      "Epoch 86/100\n",
      "8000/8000 [==============================] - 4s 532us/sample - loss: 0.3296 - acc: 0.8656\n",
      "Epoch 87/100\n",
      "8000/8000 [==============================] - 4s 444us/sample - loss: 0.3300 - acc: 0.8654\n",
      "Epoch 88/100\n",
      "8000/8000 [==============================] - 4s 445us/sample - loss: 0.3299 - acc: 0.8654\n",
      "Epoch 89/100\n",
      "8000/8000 [==============================] - 4s 480us/sample - loss: 0.3304 - acc: 0.8637\n",
      "Epoch 90/100\n",
      "8000/8000 [==============================] - 4s 487us/sample - loss: 0.3303 - acc: 0.8637\n",
      "Epoch 91/100\n",
      "8000/8000 [==============================] - 4s 487us/sample - loss: 0.3304 - acc: 0.8625\n",
      "Epoch 92/100\n",
      "8000/8000 [==============================] - 4s 467us/sample - loss: 0.3302 - acc: 0.8627\n",
      "Epoch 93/100\n",
      "8000/8000 [==============================] - 3s 431us/sample - loss: 0.3298 - acc: 0.8644\n",
      "Epoch 94/100\n",
      "8000/8000 [==============================] - 4s 504us/sample - loss: 0.3302 - acc: 0.8634\n",
      "Epoch 95/100\n",
      "8000/8000 [==============================] - 4s 485us/sample - loss: 0.3298 - acc: 0.8633\n",
      "Epoch 96/100\n",
      "8000/8000 [==============================] - 4s 557us/sample - loss: 0.3294 - acc: 0.8643\n",
      "Epoch 97/100\n",
      "8000/8000 [==============================] - 4s 458us/sample - loss: 0.3298 - acc: 0.8648\n",
      "Epoch 98/100\n",
      "8000/8000 [==============================] - 4s 507us/sample - loss: 0.3293 - acc: 0.8637\n",
      "Epoch 99/100\n",
      "8000/8000 [==============================] - 4s 454us/sample - loss: 0.3300 - acc: 0.8629\n",
      "Epoch 100/100\n",
      "8000/8000 [==============================] - 4s 460us/sample - loss: 0.3287 - acc: 0.8646\n"
     ]
    },
    {
     "data": {
      "text/plain": [
       "<tensorflow.python.keras.callbacks.History at 0x7f62d739bef0>"
      ]
     },
     "execution_count": 125,
     "metadata": {},
     "output_type": "execute_result"
    }
   ],
   "source": [
    "classifier.fit(X_train, Y_train, batch_size = 10, nb_epoch = 100)"
   ]
  },
  {
   "cell_type": "code",
   "execution_count": 126,
   "metadata": {},
   "outputs": [],
   "source": [
    "Y_pred = classifier.predict(X_test)\n",
    "Y_pred = (Y_pred>0.5)"
   ]
  },
  {
   "cell_type": "code",
   "execution_count": 130,
   "metadata": {},
   "outputs": [
    {
     "data": {
      "text/plain": [
       "array([[1512,   83],\n",
       "       [ 199,  206]])"
      ]
     },
     "execution_count": 130,
     "metadata": {},
     "output_type": "execute_result"
    }
   ],
   "source": [
    "from sklearn.metrics import confusion_matrix\n",
    "cm = confusion_matrix(Y_test,Y_pred)\n",
    "cm"
   ]
  },
  {
   "cell_type": "markdown",
   "metadata": {},
   "source": [
    "### Plotting Accuracy and Loss for the Test Set"
   ]
  },
  {
   "cell_type": "code",
   "execution_count": 128,
   "metadata": {},
   "outputs": [
    {
     "data": {
      "text/plain": [
       "Text(0, 0.5, 'Value')"
      ]
     },
     "execution_count": 128,
     "metadata": {},
     "output_type": "execute_result"
    },
    {
     "data": {
      "image/png": "[encoded data removed]",
      "text/plain": [
       "<Figure size 432x288 with 1 Axes>"
      ]
     },
     "metadata": {
      "needs_background": "light"
     },
     "output_type": "display_data"
    }
   ],
   "source": [
    "plt.plot(classifier.history.history['acc'])\n",
    "plt.plot(classifier.history.history['loss'])\n",
    "plt.legend(['Accuracy', 'Loss'], loc='upper left')\n",
    "plt.xlabel('Epoch')\n",
    "plt.ylabel('Value')\n"
   ]
  },
  {
   "cell_type": "markdown",
   "metadata": {},
   "source": [
    "Next Steps : Tune the hyper-parameters to get the highest possible accuracy."
   ]
  },
  {
   "cell_type": "code",
   "execution_count": null,
   "metadata": {},
   "outputs": [],
   "source": []
  }
 ],
 "metadata": {
  "kernelspec": {
   "display_name": "Python 3",
   "language": "python",
   "name": "python3"
  },
  "language_info": {
   "codemirror_mode": {
    "name": "ipython",
    "version": 3
   },
   "file_extension": ".py",
   "mimetype": "text/x-python",
   "name": "python",
   "nbconvert_exporter": "python",
   "pygments_lexer": "ipython3",
   "version": "3.7.3"
  }
 },
 "nbformat": 4,
 "nbformat_minor": 2
}
